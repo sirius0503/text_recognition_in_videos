{
 "cells": [
  {
   "cell_type": "markdown",
   "metadata": {},
   "source": [
    "### For Google Colab users - Mounting Google drive"
   ]
  },
  {
   "cell_type": "code",
   "execution_count": null,
   "metadata": {},
   "outputs": [],
   "source": [
    "from google.colab import drive\n",
    "drive.mount('/content/gdrive') # I tend to call my drive gdrive,if your name is Kelly you can kall it kellydrive as well ;)"
   ]
  },
  {
   "cell_type": "markdown",
   "metadata": {},
   "source": [
    "### Importing the required packages"
   ]
  },
  {
   "cell_type": "code",
   "execution_count": 3,
   "metadata": {},
   "outputs": [],
   "source": [
    "import os\n",
    "import cv2\n",
    "import shutil\n",
    "# Uncomment below line, if you are using google-colab, since cv2.imshow should be substituted by cv2_imshow in colab\n",
    "#from google.colab.patches import cv2_imshow "
   ]
  },
  {
   "cell_type": "code",
   "execution_count": 4,
   "metadata": {
    "collapsed": true,
    "jupyter": {
     "outputs_hidden": true
    }
   },
   "outputs": [
    {
     "name": "stdout",
     "output_type": "stream",
     "text": [
      "/home/valuepitch/.Private/text_recognition_in_news_videos\n",
      "['.ipynb_checkpoints', 'env', '.git', 'text_detection_in_news.ipynb']\n"
     ]
    }
   ],
   "source": [
    "print(os.getcwd()) #current directory path\n",
    "print(os.listdir()) # current directory contents, as we can see our google-drive has been successfully mounted at gdrive"
   ]
  },
  {
   "cell_type": "markdown",
   "metadata": {},
   "source": [
    "### Work in a virtual environment"
   ]
  },
  {
   "cell_type": "code",
   "execution_count": null,
   "metadata": {},
   "outputs": [],
   "source": [
    "!python3 -m venv env\n",
    "!source env/bin/activate"
   ]
  },
  {
   "cell_type": "markdown",
   "metadata": {},
   "source": [
    "## Download the youtube video"
   ]
  },
  {
   "cell_type": "markdown",
   "metadata": {},
   "source": [
    "#### Installing youtube-dl for downloading videos from youtube on linux"
   ]
  },
  {
   "cell_type": "markdown",
   "metadata": {},
   "source": [
    "#### apt (i.e ubuntu) has a really outdated version of youtube-dl"
   ]
  },
  {
   "cell_type": "code",
   "execution_count": 5,
   "metadata": {},
   "outputs": [
    {
     "name": "stdout",
     "output_type": "stream",
     "text": [
      "Package: youtube-dl\n",
      "Versions: \n",
      "2018.03.14-1ubuntu18.04.1 (/var/lib/apt/lists/in.archive.ubuntu.com_ubuntu_dists_bionic-updates_universe_binary-amd64_Packages) (/var/lib/apt/lists/in.archive.ubuntu.com_ubuntu_dists_bionic-updates_universe_binary-i386_Packages)\n",
      " Description Language: \n",
      "                 File: /var/lib/apt/lists/in.archive.ubuntu.com_ubuntu_dists_bionic_universe_binary-amd64_Packages\n",
      "                  MD5: c6de50a7ee8979e219af8437464e392b\n",
      " Description Language: en\n",
      "                 File: /var/lib/apt/lists/in.archive.ubuntu.com_ubuntu_dists_bionic_universe_i18n_Translation-en\n",
      "                  MD5: c6de50a7ee8979e219af8437464e392b\n",
      " Description Language: \n",
      "                 File: /var/lib/apt/lists/in.archive.ubuntu.com_ubuntu_dists_bionic-updates_universe_binary-amd64_Packages\n",
      "                  MD5: c6de50a7ee8979e219af8437464e392b\n",
      "\n",
      "2018.03.14-1 (/var/lib/apt/lists/in.archive.ubuntu.com_ubuntu_dists_bionic_universe_binary-amd64_Packages) (/var/lib/apt/lists/in.archive.ubuntu.com_ubuntu_dists_bionic_universe_binary-i386_Packages)\n",
      " Description Language: \n",
      "                 File: /var/lib/apt/lists/in.archive.ubuntu.com_ubuntu_dists_bionic_universe_binary-amd64_Packages\n",
      "                  MD5: c6de50a7ee8979e219af8437464e392b\n",
      " Description Language: en\n",
      "                 File: /var/lib/apt/lists/in.archive.ubuntu.com_ubuntu_dists_bionic_universe_i18n_Translation-en\n",
      "                  MD5: c6de50a7ee8979e219af8437464e392b\n",
      " Description Language: \n",
      "                 File: /var/lib/apt/lists/in.archive.ubuntu.com_ubuntu_dists_bionic-updates_universe_binary-amd64_Packages\n",
      "                  MD5: c6de50a7ee8979e219af8437464e392b\n",
      "\n",
      "\n",
      "Reverse Depends: \n",
      "  libmpv1,youtube-dl 2014.11.26\n",
      "  mpv,youtube-dl 2014.11.26\n",
      "  mkchromecast,youtube-dl\n",
      "  lives,youtube-dl\n",
      "  acetoneiso,youtube-dl\n",
      "  gnome-mpv,youtube-dl\n",
      "  git-annex,youtube-dl\n",
      "  encuentro,youtube-dl\n",
      "Dependencies: \n",
      "2018.03.14-1ubuntu18.04.1 - python3-pkg-resources (0 (null)) python3:any (2 3.3.2-2~) aria2 (16 (null)) wget (16 (null)) curl (0 (null)) ca-certificates (0 (null)) ffmpeg (16 (null)) libav-tools (0 (null)) mpv (16 (null)) mplayer (0 (null)) phantomjs (0 (null)) python3-pyxattr (0 (null)) rtmpdump (0 (null)) \n",
      "2018.03.14-1 - python3-pkg-resources (0 (null)) python3:any (2 3.3.2-2~) aria2 (16 (null)) wget (16 (null)) curl (0 (null)) ca-certificates (0 (null)) ffmpeg (16 (null)) libav-tools (0 (null)) mpv (16 (null)) mplayer (0 (null)) phantomjs (0 (null)) python3-pyxattr (0 (null)) rtmpdump (0 (null)) \n",
      "Provides: \n",
      "2018.03.14-1ubuntu18.04.1 - \n",
      "2018.03.14-1 - \n",
      "Reverse Provides: \n"
     ]
    }
   ],
   "source": [
    "!apt-cache showpkg youtube-dl"
   ]
  },
  {
   "cell_type": "markdown",
   "metadata": {},
   "source": [
    "#### Use pip to install youtube-dl , youtube-dl has daily to weekly updates as can be seen from the date 2019.12.25"
   ]
  },
  {
   "cell_type": "code",
   "execution_count": 6,
   "metadata": {},
   "outputs": [
    {
     "name": "stdout",
     "output_type": "stream",
     "text": [
      "Collecting youtube_dl\n",
      "\u001b[?25l  Downloading https://files.pythonhosted.org/packages/0c/c7/eb7f55e7bd833cd09ed20c767e37240a39c296eb1703b71b48c0e27d99e0/youtube_dl-2019.12.25-py2.py3-none-any.whl (1.8MB)\n",
      "\u001b[K     |████████████████████████████████| 1.8MB 222kB/s eta 0:00:01    |█                               | 51kB 139kB/s eta 0:00:13\n",
      "\u001b[?25hInstalling collected packages: youtube-dl\n",
      "Successfully installed youtube-dl-2019.12.25\n"
     ]
    }
   ],
   "source": [
    "!pip install --upgrade youtube_dl"
   ]
  },
  {
   "cell_type": "markdown",
   "metadata": {},
   "source": [
    "#### Downloading the news video in our current directory with youtube-dl\n",
    "[Inside China’s child pop star factory - BBC News | December 27th ](https://www.youtube.com/watch?v=r_HCsmuSvXc)"
   ]
  },
  {
   "cell_type": "code",
   "execution_count": 7,
   "metadata": {},
   "outputs": [
    {
     "name": "stdout",
     "output_type": "stream",
     "text": [
      "[youtube] r_HCsmuSvXc: Downloading webpage\n",
      "[youtube] r_HCsmuSvXc: Downloading video info webpage\n",
      "\u001b[0;33mWARNING:\u001b[0m Requested formats are incompatible for merge and will be merged into mkv.\n",
      "[download] Destination: Inside China’s child pop star factory - BBC News-r_HCsmuSvXc.f137.mp4\n",
      "\u001b[K[download] 100% of 70.96MiB in 23:5895KiB/s ETA 00:00:30\n",
      "[download] Destination: Inside China’s child pop star factory - BBC News-r_HCsmuSvXc.f251.webm\n",
      "\u001b[K[download] 100% of 6.85MiB in 02:1805KiB/s ETA 00:00\n",
      "[ffmpeg] Merging formats into \"Inside China’s child pop star factory - BBC News-r_HCsmuSvXc.mkv\"\n",
      "Deleting original file Inside China’s child pop star factory - BBC News-r_HCsmuSvXc.f137.mp4 (pass -k to keep)\n",
      "Deleting original file Inside China’s child pop star factory - BBC News-r_HCsmuSvXc.f251.webm (pass -k to keep)\n"
     ]
    }
   ],
   "source": [
    "!youtube-dl https://www.youtube.com/watch?v=r_HCsmuSvXc"
   ]
  },
  {
   "cell_type": "markdown",
   "metadata": {},
   "source": [
    "#### The video will be present in our current directory as we can see below"
   ]
  },
  {
   "cell_type": "code",
   "execution_count": 8,
   "metadata": {},
   "outputs": [
    {
     "name": "stdout",
     "output_type": "stream",
     "text": [
      "/home/valuepitch/.Private/text_recognition_in_news_videos\n",
      "['.ipynb_checkpoints', 'Inside China’s child pop star factory - BBC News-r_HCsmuSvXc.mkv', 'env', '.git', 'text_detection_in_news.ipynb']\n"
     ]
    }
   ],
   "source": [
    "print(os.getcwd())\n",
    "print(os.listdir())"
   ]
  },
  {
   "cell_type": "markdown",
   "metadata": {},
   "source": [
    "### Extracting Frames from the video"
   ]
  },
  {
   "cell_type": "markdown",
   "metadata": {},
   "source": [
    "#### Firstly, I'll create a new sub-directory to store the frames, named news_frames( all the frames) and nframes1s ( having 1 frame per second)"
   ]
  },
  {
   "cell_type": "code",
   "execution_count": 11,
   "metadata": {},
   "outputs": [
    {
     "name": "stdout",
     "output_type": "stream",
     "text": [
      "['nframes1s', 'README.md', '.ipynb_checkpoints', 'Inside China’s child pop star factory - BBC News-r_HCsmuSvXc.mkv', 'news_frames', 'env', '.git', 'text_detection_in_news.ipynb', '.gitignore']\n"
     ]
    }
   ],
   "source": [
    "if os.path.exists('news_frames'):\n",
    "    shutil.rmtree('news_frames')\n",
    "if os.path.exists('nframes1s'):\n",
    "    shutil.rmtree('nframes1s')\n",
    "os.mkdir('news_frames')\n",
    "os.mkdir('nframes1s')\n",
    "print(os.listdir()) # news_frames has been created, as can be seen by the output of os.listdir()"
   ]
  },
  {
   "cell_type": "markdown",
   "metadata": {},
   "source": [
    "### Video Info : Frame rate and duration"
   ]
  },
  {
   "cell_type": "code",
   "execution_count": 19,
   "metadata": {},
   "outputs": [
    {
     "name": "stdout",
     "output_type": "stream",
     "text": [
      "25\n"
     ]
    }
   ],
   "source": [
    "!ffmpeg -i Inside\\ China’s\\ child\\ pop\\ star\\ factory\\ -\\ BBC\\ News-r_HCsmuSvXc.mkv 2>&1 | sed -n \"s/.*, \\(.*\\) tbr.*/\\1/p\""
   ]
  },
  {
   "cell_type": "code",
   "execution_count": 23,
   "metadata": {},
   "outputs": [
    {
     "name": "stdout",
     "output_type": "stream",
     "text": [
      "  Duration: 00:08:00.44, start: -0.007000, bitrate: 1357 kb/s\n"
     ]
    }
   ],
   "source": [
    "!ffmpeg -i Inside\\ China’s\\ child\\ pop\\ star\\ factory\\ -\\ BBC\\ News-r_HCsmuSvXc.mkv 2>&1 | grep \"Duration\""
   ]
  },
  {
   "cell_type": "markdown",
   "metadata": {},
   "source": [
    "### Extraction of frames from news video to news_frames directory using ffmpeg"
   ]
  },
  {
   "cell_type": "code",
   "execution_count": null,
   "metadata": {},
   "outputs": [],
   "source": [
    "!ffmpeg -i Inside\\ China’s\\ child\\ pop\\ star\\ factory\\ -\\ BBC\\ News-r_HCsmuSvXc.mkv -vf fps=1 nframes1s/image_%04d.png -hide_banner"
   ]
  },
  {
   "cell_type": "markdown",
   "metadata": {},
   "source": [
    "#### No. of frames and contents "
   ]
  },
  {
   "cell_type": "code",
   "execution_count": 30,
   "metadata": {},
   "outputs": [
    {
     "name": "stdout",
     "output_type": "stream",
     "text": [
      "No. of frames saved in nframes1s: 480\n"
     ]
    }
   ],
   "source": [
    "print(f'No. of frames saved in nframes1s: {len(os.listdir(\"nframes1s\"))}')"
   ]
  },
  {
   "cell_type": "markdown",
   "metadata": {},
   "source": [
    "#### Full Frames extraction"
   ]
  },
  {
   "cell_type": "code",
   "execution_count": null,
   "metadata": {},
   "outputs": [
    {
     "name": "stdout",
     "output_type": "stream",
     "text": [
      "frame= 8170 fps= 14 q=-0.0 size=N/A time=00:05:26.64 bitrate=N/A speed=0.565x    \r"
     ]
    }
   ],
   "source": [
    "!ffmpeg -i Inside\\ China’s\\ child\\ pop\\ star\\ factory\\ -\\ BBC\\ News-r_HCsmuSvXc.mkv news_frames/image_%04d.png -hide_banner"
   ]
  },
  {
   "cell_type": "code",
   "execution_count": null,
   "metadata": {},
   "outputs": [],
   "source": [
    "print('Number of frames: {}'.format(len(os.listdir('news_frames')))) # Number of frames"
   ]
  }
 ],
 "metadata": {
  "kernelspec": {
   "display_name": "Python 3",
   "language": "python",
   "name": "python3"
  },
  "language_info": {
   "codemirror_mode": {
    "name": "ipython",
    "version": 3
   },
   "file_extension": ".py",
   "mimetype": "text/x-python",
   "name": "python",
   "nbconvert_exporter": "python",
   "pygments_lexer": "ipython3",
   "version": "3.7.4"
  }
 },
 "nbformat": 4,
 "nbformat_minor": 4
}
